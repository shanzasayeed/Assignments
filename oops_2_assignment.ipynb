{
 "cells": [
  {
   "cell_type": "markdown",
   "metadata": {},
   "source": [
    "Q1. Explain Class and Object with respect to Object-Oriented Programming. Give a suitable example."
   ]
  },
  {
   "cell_type": "markdown",
   "metadata": {},
   "source": [
    "In object-oriented programming (OOP), a class is a blueprint for creating objects. It defines the attributes (data members) and behaviors (methods) that objects of that class will have. An object, on the other hand, is an instance of a class. It represents a real-world entity and can interact with other objects and the system"
   ]
  },
  {
   "cell_type": "code",
   "execution_count": 2,
   "metadata": {},
   "outputs": [
    {
     "name": "stdout",
     "output_type": "stream",
     "text": [
      "Toyota\n",
      "Honda Accord started.\n",
      "Toyota Camry stopped.\n"
     ]
    }
   ],
   "source": [
    "# Define a class called Car\n",
    "class Car:\n",
    "    # Constructor method to initialize attributes\n",
    "    def __init__(self, make, model, year):\n",
    "        self.make = make  # Car's manufacturer\n",
    "        self.model = model  # Car's model\n",
    "        self.year = year  # Year of manufacture\n",
    "        self.is_running = False  # Initial state of the car (not running)\n",
    "\n",
    "    # Method to start the car\n",
    "    def start(self):\n",
    "        self.is_running = True\n",
    "        print(f\"{self.make} {self.model} started.\")\n",
    "\n",
    "    # Method to stop the car\n",
    "    def stop(self):\n",
    "        self.is_running = False\n",
    "        print(f\"{self.make} {self.model} stopped.\")\n",
    "\n",
    "# Create objects (instances) of the Car class\n",
    "car1 = Car(\"Toyota\", \"Camry\", 2022)\n",
    "car2 = Car(\"Honda\", \"Accord\", 2023)\n",
    "\n",
    "# Using objects to access attributes and behaviors\n",
    "print(car1.make)  # Output: Toyota\n",
    "car2.start()  # Output: Honda Accord started.\n",
    "car1.stop()  # Output: Toyota Camry stopped.\n"
   ]
  },
  {
   "cell_type": "markdown",
   "metadata": {},
   "source": [
    "In this example:\n",
    "\n",
    "Car is a class that defines the structure and behavior of cars.\n",
    "car1 and car2 are objects (instances) of the Car class, representing specific cars"
   ]
  },
  {
   "cell_type": "markdown",
   "metadata": {},
   "source": [
    "Q2. Name the four pillars of OOPs."
   ]
  },
  {
   "cell_type": "markdown",
   "metadata": {},
   "source": [
    "The four pillars of object-oriented programming (OOP) are:\n",
    "\n",
    "1. **Encapsulation**: This refers to the bundling of data (attributes) and methods (functions) that operate on that data into a single unit, called a class. Encapsulation allows for data hiding and abstraction, where the internal workings of a class are hidden from outside access, and only the necessary interfaces are exposed.\n",
    "\n",
    "2. **Inheritance**: Inheritance is the mechanism by which a class (called a subclass or derived class) can inherit attributes and methods from another class (called a superclass or base class). It promotes code reusability and the creation of a hierarchy of classes, where subclasses can extend or override the behavior of their superclass.\n",
    "\n",
    "3. **Polymorphism**: Polymorphism allows objects to be treated as instances of their superclass, even when they are actually instances of a subclass. This concept enables flexibility in programming, as the same method can behave differently based on the object's type. Polymorphism is typically achieved through method overriding (redefining a method in a subclass) and method overloading (defining multiple methods with the same name but different parameters).\n",
    "\n",
    "4. **Abstraction**: Abstraction involves simplifying complex systems by focusing on essential characteristics while hiding unnecessary details. In OOP, abstraction allows us to define classes with only the necessary attributes and methods for their intended use, without exposing the underlying implementation complexity. It helps in managing complexity and enhancing code readability and maintenance."
   ]
  },
  {
   "cell_type": "markdown",
   "metadata": {},
   "source": [
    "Q3. Explain why the __init__() function is used. Give a suitable example."
   ]
  },
  {
   "cell_type": "markdown",
   "metadata": {},
   "source": [
    "\n",
    "The __init__() function is a special method in Python used for initializing newly created objects. It is called automatically when a new instance of a class is created. The primary purpose of the __init__() method is to set up initial values for the object's attributes or perform any necessary initialization tasks."
   ]
  },
  {
   "cell_type": "code",
   "execution_count": 3,
   "metadata": {},
   "outputs": [
    {
     "name": "stdout",
     "output_type": "stream",
     "text": [
      "Name: Alice, Age: 30\n",
      "Name: Bob, Age: 25\n"
     ]
    }
   ],
   "source": [
    "class Person:\n",
    "    def __init__(self, name, age):\n",
    "        self.name = name  # Initialize the name attribute\n",
    "        self.age = age  # Initialize the age attribute\n",
    "\n",
    "    def display_info(self):\n",
    "        print(f\"Name: {self.name}, Age: {self.age}\")\n",
    "\n",
    "# Create instances of the Person class\n",
    "person1 = Person(\"Alice\", 30)\n",
    "person2 = Person(\"Bob\", 25)\n",
    "\n",
    "# Access and display information about the persons\n",
    "person1.display_info()  # Output: Name: Alice, Age: 30\n",
    "person2.display_info()  # Output: Name: Bob, Age: 25\n"
   ]
  },
  {
   "cell_type": "markdown",
   "metadata": {},
   "source": [
    "In this example:\n",
    "\n",
    "The Person class has an __init__() method that takes name and age as parameters.\n",
    "When instances like person1 and person2 are created, the __init__() method is automatically called to initialize their name and age attributes.\n",
    "The display_info() method is used to display the information about each person."
   ]
  },
  {
   "cell_type": "markdown",
   "metadata": {},
   "source": [
    "Q4. Why self is used in OOPs?"
   ]
  },
  {
   "cell_type": "markdown",
   "metadata": {},
   "source": [
    "In object-oriented programming (OOP) in languages like Python, self is a special keyword that refers to the instance of the class. It is used within class methods to access and modify the attributes and methods of the current object. "
   ]
  },
  {
   "cell_type": "markdown",
   "metadata": {},
   "source": [
    "Q5. What is inheritance? Give an example for each type of inheritance."
   ]
  },
  {
   "cell_type": "markdown",
   "metadata": {},
   "source": [
    "Inheritance is a fundamental concept in object-oriented programming (OOP) that allows a new class (called a subclass or derived class) to inherit attributes and methods from an existing class (called a superclass or base class). This promotes code reusability, as the subclass can reuse the code from its superclass, extending or modifying it as needed.\n",
    "\n",
    "There are different types of inheritance based on how subclasses inherit from superclasses:"
   ]
  },
  {
   "cell_type": "markdown",
   "metadata": {},
   "source": [
    "Single Inheritance: In single inheritance, a subclass inherits from only one superclass."
   ]
  },
  {
   "cell_type": "code",
   "execution_count": 4,
   "metadata": {},
   "outputs": [
    {
     "name": "stdout",
     "output_type": "stream",
     "text": [
      "Animal speaks\n",
      "Dog barks\n"
     ]
    }
   ],
   "source": [
    "# Single Inheritance Example\n",
    "class Animal:\n",
    "    def speak(self):\n",
    "        print(\"Animal speaks\")\n",
    "\n",
    "class Dog(Animal):  # Dog is a subclass of Animal\n",
    "    def bark(self):\n",
    "        print(\"Dog barks\")\n",
    "\n",
    "# Creating an instance of Dog and using inherited methods\n",
    "dog = Dog()\n",
    "dog.speak()  # Output: Animal speaks\n",
    "dog.bark()   # Output: Dog barks\n"
   ]
  },
  {
   "cell_type": "markdown",
   "metadata": {},
   "source": [
    "Multiple Inheritance: Multiple inheritance allows a subclass to inherit from more than one superclass. In Python, this is achieved by listing multiple base classes in parentheses after the subclass name."
   ]
  },
  {
   "cell_type": "code",
   "execution_count": 5,
   "metadata": {},
   "outputs": [
    {
     "name": "stdout",
     "output_type": "stream",
     "text": [
      "Animal speaks\n",
      "Bird chirps\n",
      "Flying high\n"
     ]
    }
   ],
   "source": [
    "# Multiple Inheritance Example\n",
    "class Flyable:\n",
    "    def fly(self):\n",
    "        print(\"Flying high\")\n",
    "\n",
    "class Animal:\n",
    "    def speak(self):\n",
    "        print(\"Animal speaks\")\n",
    "\n",
    "class Bird(Animal, Flyable):  # Bird inherits from Animal and Flyable\n",
    "    def chirp(self):\n",
    "        print(\"Bird chirps\")\n",
    "\n",
    "# Creating an instance of Bird and using inherited methods\n",
    "bird = Bird()\n",
    "bird.speak()  # Output: Animal speaks\n",
    "bird.chirp()  # Output: Bird chirps\n",
    "bird.fly()    # Output: Flying high\n"
   ]
  },
  {
   "cell_type": "markdown",
   "metadata": {},
   "source": [
    "Multilevel Inheritance: In multilevel inheritance, a subclass inherits from a superclass, and then another subclass inherits from that subclass."
   ]
  },
  {
   "cell_type": "code",
   "execution_count": 6,
   "metadata": {},
   "outputs": [
    {
     "name": "stdout",
     "output_type": "stream",
     "text": [
      "Animal speaks\n",
      "Dog barks\n",
      "German Shepherd guards\n"
     ]
    }
   ],
   "source": [
    "# Multilevel Inheritance Example\n",
    "class Animal:\n",
    "    def speak(self):\n",
    "        print(\"Animal speaks\")\n",
    "\n",
    "class Dog(Animal):  # Dog inherits from Animal\n",
    "    def bark(self):\n",
    "        print(\"Dog barks\")\n",
    "\n",
    "class GermanShepherd(Dog):  # GermanShepherd inherits from Dog\n",
    "    def guard(self):\n",
    "        print(\"German Shepherd guards\")\n",
    "\n",
    "# Creating an instance of GermanShepherd and using inherited methods\n",
    "shepherd = GermanShepherd()\n",
    "shepherd.speak()  # Output: Animal speaks\n",
    "shepherd.bark()   # Output: Dog barks\n",
    "shepherd.guard()  # Output: German Shepherd guards\n"
   ]
  },
  {
   "cell_type": "markdown",
   "metadata": {},
   "source": [
    "Hierarchical Inheritance: In hierarchical inheritance, multiple subclasses inherit from the same superclass."
   ]
  },
  {
   "cell_type": "code",
   "execution_count": 7,
   "metadata": {},
   "outputs": [
    {
     "name": "stdout",
     "output_type": "stream",
     "text": [
      "Animal speaks\n",
      "Dog barks\n",
      "Animal speaks\n",
      "Cat meows\n"
     ]
    }
   ],
   "source": [
    "# Hierarchical Inheritance Example\n",
    "class Animal:\n",
    "    def speak(self):\n",
    "        print(\"Animal speaks\")\n",
    "\n",
    "class Dog(Animal):  # Dog inherits from Animal\n",
    "    def bark(self):\n",
    "        print(\"Dog barks\")\n",
    "\n",
    "class Cat(Animal):  # Cat also inherits from Animal\n",
    "    def meow(self):\n",
    "        print(\"Cat meows\")\n",
    "\n",
    "# Creating instances of Dog and Cat and using inherited methods\n",
    "dog = Dog()\n",
    "dog.speak()  # Output: Animal speaks\n",
    "dog.bark()   # Output: Dog barks\n",
    "\n",
    "cat = Cat()\n",
    "cat.speak()  # Output: Animal speaks\n",
    "cat.meow()   # Output: Cat meows\n"
   ]
  }
 ],
 "metadata": {
  "kernelspec": {
   "display_name": "Python 3",
   "language": "python",
   "name": "python3"
  },
  "language_info": {
   "codemirror_mode": {
    "name": "ipython",
    "version": 3
   },
   "file_extension": ".py",
   "mimetype": "text/x-python",
   "name": "python",
   "nbconvert_exporter": "python",
   "pygments_lexer": "ipython3",
   "version": "3.10.10"
  }
 },
 "nbformat": 4,
 "nbformat_minor": 2
}

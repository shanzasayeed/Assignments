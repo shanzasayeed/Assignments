{
 "cells": [
  {
   "cell_type": "markdown",
   "metadata": {},
   "source": [
    "Answer 1"
   ]
  },
  {
   "cell_type": "code",
   "execution_count": null,
   "metadata": {},
   "outputs": [
    {
     "data": {
      "text/plain": [
       "'Hello , how are you?'"
      ]
     },
     "execution_count": 1,
     "metadata": {},
     "output_type": "execute_result"
    }
   ],
   "source": [
    "str1='Hello , how are you?'  #string\n",
    "str1"
   ]
  },
  {
   "cell_type": "code",
   "execution_count": null,
   "metadata": {},
   "outputs": [
    {
     "data": {
      "text/plain": [
       "[1, 78.0, 'Lucknow', True, 56]"
      ]
     },
     "execution_count": 2,
     "metadata": {},
     "output_type": "execute_result"
    }
   ],
   "source": [
    "list1=[1,78.00,'Lucknow', True,56] #list\n",
    "list1"
   ]
  },
  {
   "cell_type": "code",
   "execution_count": null,
   "metadata": {},
   "outputs": [
    {
     "data": {
      "text/plain": [
       "37.0"
      ]
     },
     "execution_count": 3,
     "metadata": {},
     "output_type": "execute_result"
    }
   ],
   "source": [
    "f=37.0 #float\n",
    "f"
   ]
  },
  {
   "cell_type": "code",
   "execution_count": null,
   "metadata": {},
   "outputs": [
    {
     "data": {
      "text/plain": [
       "(5, 'hello', 76.6, 29)"
      ]
     },
     "execution_count": 5,
     "metadata": {},
     "output_type": "execute_result"
    }
   ],
   "source": [
    "tuple1=(5,'hello',76.6,29) #tuple\n",
    "tuple1"
   ]
  },
  {
   "cell_type": "markdown",
   "metadata": {},
   "source": [
    "Answer 2"
   ]
  },
  {
   "cell_type": "markdown",
   "metadata": {},
   "source": [
    "str \n",
    "str\n",
    "List\n",
    "int"
   ]
  },
  {
   "cell_type": "markdown",
   "metadata": {},
   "source": [
    "Answer 3"
   ]
  },
  {
   "cell_type": "markdown",
   "metadata": {},
   "source": [
    "/    (DIVISION)   this operator is used to divide two numbers. It gives a float number as output.\n",
    "Example is given in below cell"
   ]
  },
  {
   "cell_type": "code",
   "execution_count": null,
   "metadata": {},
   "outputs": [
    {
     "data": {
      "text/plain": [
       "2.4347826086956523"
      ]
     },
     "execution_count": 17,
     "metadata": {},
     "output_type": "execute_result"
    }
   ],
   "source": [
    "num1=56\n",
    "num2=23\n",
    "div=num1/num2\n",
    "div"
   ]
  },
  {
   "cell_type": "markdown",
   "metadata": {},
   "source": [
    "%  (Modulus) This operator is used to give reaminder. It gives an integer as output.\n",
    "Example is given below\n"
   ]
  },
  {
   "cell_type": "code",
   "execution_count": null,
   "metadata": {},
   "outputs": [
    {
     "data": {
      "text/plain": [
       "10"
      ]
     },
     "execution_count": 19,
     "metadata": {},
     "output_type": "execute_result"
    }
   ],
   "source": [
    "\n",
    "mod=num1 % num2\n",
    "mod"
   ]
  },
  {
   "cell_type": "markdown",
   "metadata": {},
   "source": [
    "// (FLOOR DIVISION)  It also divides two numbers. It returns an integer value. Example :"
   ]
  },
  {
   "cell_type": "code",
   "execution_count": null,
   "metadata": {},
   "outputs": [
    {
     "data": {
      "text/plain": [
       "2"
      ]
     },
     "execution_count": 21,
     "metadata": {},
     "output_type": "execute_result"
    }
   ],
   "source": [
    "floor=num1 // num2\n",
    "floor"
   ]
  },
  {
   "cell_type": "markdown",
   "metadata": {},
   "source": [
    "(**) this operator is used to calculate POWER of a number. It returns an integer value. Example:"
   ]
  },
  {
   "cell_type": "code",
   "execution_count": null,
   "metadata": {},
   "outputs": [
    {
     "data": {
      "text/plain": [
       "1000"
      ]
     },
     "execution_count": 22,
     "metadata": {},
     "output_type": "execute_result"
    }
   ],
   "source": [
    "a=10\n",
    "b=3\n",
    "power= a**b\n",
    "power"
   ]
  },
  {
   "cell_type": "markdown",
   "metadata": {},
   "source": [
    "Answer 4"
   ]
  },
  {
   "cell_type": "code",
   "execution_count": null,
   "metadata": {},
   "outputs": [
    {
     "name": "stdout",
     "output_type": "stream",
     "text": [
      "23\n",
      "<class 'int'>\n",
      "14\n",
      "<class 'int'>\n",
      "2896.67\n",
      "<class 'float'>\n",
      "False\n",
      "<class 'bool'>\n",
      "My name is Shanza\n",
      "<class 'str'>\n",
      "True\n",
      "<class 'bool'>\n",
      "56.76\n",
      "<class 'float'>\n",
      "I live in Lucknow\n",
      "<class 'str'>\n",
      "467000\n",
      "<class 'int'>\n",
      "Hello\n",
      "<class 'str'>\n"
     ]
    }
   ],
   "source": [
    "list1=[ 23, 14, 2896.67, False, 'My name is Shanza', True, 56.76,'I live in Lucknow', 467000, 'Hello'  ]\n",
    "for item in list1:\n",
    "    print(item)\n",
    "    print(type(item))\n"
   ]
  },
  {
   "cell_type": "markdown",
   "metadata": {},
   "source": [
    "Answer 5"
   ]
  },
  {
   "cell_type": "code",
   "execution_count": 7,
   "metadata": {},
   "outputs": [
    {
     "name": "stdout",
     "output_type": "stream",
     "text": [
      "36 is purely divisible by 12\n",
      "36 is not purely divisible by 13\n",
      "36 is not purely divisible by 14\n",
      "36 is not purely divisible by 15\n",
      "36 is not purely divisible by 16\n",
      "36 is not purely divisible by 17\n",
      "36 is purely divisible by 18\n",
      "36 is not purely divisible by 19\n",
      "36 is not purely divisible by 20\n",
      "36 is not purely divisible by 21\n",
      "36 is not purely divisible by 22\n",
      "36 is not purely divisible by 23\n",
      "36 is not purely divisible by 24\n",
      "36 is not purely divisible by 25\n",
      "36 is not purely divisible by 26\n",
      "36 is not purely divisible by 27\n",
      "36 is not purely divisible by 28\n",
      "36 is not purely divisible by 29\n",
      "36 is not purely divisible by 30\n",
      "36 is not purely divisible by 31\n",
      "36 is not purely divisible by 32\n",
      "36 is not purely divisible by 33\n",
      "36 is not purely divisible by 34\n",
      "36 is not purely divisible by 35\n",
      "36 is purely divisible by 36\n",
      "3\n"
     ]
    }
   ],
   "source": [
    "A=36\n",
    "B=12\n",
    "count=0\n",
    "while B<=A:\n",
    "    if A%B==0:\n",
    "        print( f'{A} is purely divisible by {B}')\n",
    "        count+=1\n",
    "        B+=1\n",
    "    else:\n",
    "        print( f'{A} is not purely divisible by {B}')\n",
    "        B+=1\n",
    "print(count)\n"
   ]
  },
  {
   "cell_type": "markdown",
   "metadata": {},
   "source": [
    "Answer 6"
   ]
  },
  {
   "cell_type": "code",
   "execution_count": null,
   "metadata": {},
   "outputs": [
    {
     "name": "stdout",
     "output_type": "stream",
     "text": [
      "34  is not divisible by 3\n",
      "67  is not divisible by 3\n",
      "988  is not divisible by 3\n",
      "12  is divisible by 3\n",
      "45  is divisible by 3\n",
      "123  is divisible by 3\n",
      "543  is divisible by 3\n",
      "636  is divisible by 3\n",
      "698  is not divisible by 3\n",
      "98  is not divisible by 3\n",
      "35  is not divisible by 3\n",
      "13  is not divisible by 3\n",
      "29  is not divisible by 3\n",
      "98  is not divisible by 3\n",
      "76  is not divisible by 3\n",
      "9  is divisible by 3\n",
      "27  is divisible by 3\n",
      "99  is divisible by 3\n",
      "544  is not divisible by 3\n",
      "612  is divisible by 3\n",
      "567  is divisible by 3\n",
      "19  is not divisible by 3\n",
      "234  is divisible by 3\n",
      "21  is divisible by 3\n",
      "25  is not divisible by 3\n"
     ]
    }
   ],
   "source": [
    "l=[34,67,988,12,45,123,543,636,698,98,35,13,29,98,76,9,27,99,544,612,567,19,234,21,25]\n",
    "for i in l:\n",
    "    if i%3==0:\n",
    "        print(i , ' is divisible by 3')\n",
    "    else:\n",
    "        print(i , ' is not divisible by 3')    "
   ]
  },
  {
   "cell_type": "markdown",
   "metadata": {},
   "source": [
    "Answer 7"
   ]
  },
  {
   "cell_type": "markdown",
   "metadata": {},
   "source": [
    "Mutable data types:\n",
    "mutable data types in Python are those whose value can be changed in place after they have been created.\n",
    "In mutable data types, we can modify the already existing values of the data types (such as lists, dictionaries, etc.). Or, we may add new values or remove the existing values from our data types. Basically, we may perform any operation with our data without having to create a new copy of our data type. Hence, the value assigned to any variable can be changed.\n",
    "There are basically 3 mutable data types in Python:\n",
    "\n",
    "List,\n",
    "Dictionary,\n",
    "Set.\n",
    "\n",
    "\n",
    "\n"
   ]
  },
  {
   "cell_type": "code",
   "execution_count": null,
   "metadata": {},
   "outputs": [
    {
     "data": {
      "text/plain": [
       "[45, 67, 567, 54]"
      ]
     },
     "execution_count": 40,
     "metadata": {},
     "output_type": "execute_result"
    }
   ],
   "source": [
    "list=[45, 67, 29 ,54]\n",
    "list[2]=567  # can be modified because lists are mutable\n",
    "list"
   ]
  },
  {
   "cell_type": "markdown",
   "metadata": {},
   "source": [
    "Immutable data types:\n",
    "The value assigned to a variable cannot be changed for the immutable data types. For example, String is an immutable data type in Python. We cannot change its content, otherwise, we may fall into a TypeError. Even if we assign any new content to immutable objects, then a new object is created (instead of the original being modified).\n",
    "Example: Tuples, Strings."
   ]
  },
  {
   "cell_type": "code",
   "execution_count": null,
   "metadata": {},
   "outputs": [
    {
     "ename": "TypeError",
     "evalue": "'tuple' object does not support item assignment",
     "output_type": "error",
     "traceback": [
      "\u001b[1;31m---------------------------------------------------------------------------\u001b[0m",
      "\u001b[1;31mTypeError\u001b[0m                                 Traceback (most recent call last)",
      "Cell \u001b[1;32mIn[39], line 2\u001b[0m\n\u001b[0;32m      1\u001b[0m tuple1\u001b[39m=\u001b[39m(\u001b[39m34\u001b[39m, \u001b[39m678\u001b[39m, \u001b[39m'\u001b[39m\u001b[39mHELLO\u001b[39m\u001b[39m'\u001b[39m,\u001b[39m'\u001b[39m\u001b[39mDELHI\u001b[39m\u001b[39m'\u001b[39m,\u001b[39m768.67\u001b[39m)\n\u001b[1;32m----> 2\u001b[0m tuple1[\u001b[39m2\u001b[39m]\u001b[39m=\u001b[39m\u001b[39m'\u001b[39m\u001b[39mHi\u001b[39m\u001b[39m'\u001b[39m\n\u001b[0;32m      3\u001b[0m tuple1\n",
      "\u001b[1;31mTypeError\u001b[0m: 'tuple' object does not support item assignment"
     ]
    }
   ],
   "source": [
    "tuple1=(34, 678, 'HELLO','DELHI',768.67)\n",
    "tuple1[2]='Hi'\n",
    "tuple1\n",
    "# in this error is shown because tuples are immutale"
   ]
  },
  {
   "cell_type": "code",
   "execution_count": null,
   "metadata": {},
   "outputs": [],
   "source": []
  },
  {
   "cell_type": "code",
   "execution_count": null,
   "metadata": {},
   "outputs": [],
   "source": []
  }
 ],
 "metadata": {
  "kernelspec": {
   "display_name": "base",
   "language": "python",
   "name": "python3"
  },
  "language_info": {
   "codemirror_mode": {
    "name": "ipython",
    "version": 3
   },
   "file_extension": ".py",
   "mimetype": "text/x-python",
   "name": "python",
   "nbconvert_exporter": "python",
   "pygments_lexer": "ipython3",
   "version": "3.10.10"
  },
  "orig_nbformat": 4
 },
 "nbformat": 4,
 "nbformat_minor": 2
}

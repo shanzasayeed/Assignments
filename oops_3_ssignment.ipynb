{
 "cells": [
  {
   "cell_type": "markdown",
   "metadata": {},
   "source": [
    "Q1. What is Abstraction in OOps? Explain with an example."
   ]
  },
  {
   "cell_type": "markdown",
   "metadata": {},
   "source": [
    "Abstraction in object-oriented programming (OOP) is the process of hiding the complex implementation details of a system and exposing only the necessary and relevant functionalities or interfaces to the outside world. It allows programmers to focus on essential aspects of an object and ignore the irrelevant details, promoting simplicity, reusability, and easy maintenance of code"
   ]
  },
  {
   "cell_type": "code",
   "execution_count": null,
   "metadata": {},
   "outputs": [],
   "source": [
    "from abc import ABC, abstractmethod\n",
    "\n",
    "# Abstract base class (ABC) representing a Shape\n",
    "class Shape(ABC):\n",
    "    @abstractmethod\n",
    "    def area(self):\n",
    "        pass\n",
    "\n",
    "    @abstractmethod\n",
    "    def perimeter(self):\n",
    "        pass\n",
    "\n",
    "# Concrete class Circle inheriting from Shape\n",
    "class Circle(Shape):\n",
    "    def __init__(self, radius):\n",
    "        self.radius = radius\n",
    "\n",
    "    def area(self):\n",
    "        return 3.14 * self.radius * self.radius\n",
    "\n",
    "    def perimeter(self):\n",
    "        return 2 * 3.14 * self.radius\n",
    "\n",
    "# Concrete class Rectangle inheriting from Shape\n",
    "class Rectangle(Shape):\n",
    "    def __init__(self, length, width):\n",
    "        self.length = length\n",
    "        self.width = width\n",
    "\n",
    "    def area(self):\n",
    "        return self.length * self.width\n",
    "\n",
    "    def perimeter(self):\n",
    "        return 2 * (self.length + self.width)\n",
    "\n",
    "# Using abstraction to work with shapes without worrying about their internal details\n",
    "circle = Circle(5)\n",
    "print(\"Circle Area:\", circle.area())  # Output: Circle Area: 78.5\n",
    "print(\"Circle Perimeter:\", circle.perimeter())  # Output: Circle Perimeter: 31.4\n",
    "\n",
    "rectangle = Rectangle(4, 6)\n",
    "print(\"Rectangle Area:\", rectangle.area())  # Output: Rectangle Area: 24\n",
    "print(\"Rectangle Perimeter:\", rectangle.perimeter())  # Output: Rectangle Perimeter: 20\n"
   ]
  },
  {
   "cell_type": "markdown",
   "metadata": {},
   "source": [
    "Q2. Differentiate between Abstraction and Encapsulation. Explain with an example."
   ]
  },
  {
   "cell_type": "markdown",
   "metadata": {},
   "source": [
    "\n",
    "Abstraction focuses on hiding unnecessary details and exposing only essential functionalities, while encapsulation involves bundling data and methods together within a class and controlling access to that data."
   ]
  },
  {
   "cell_type": "markdown",
   "metadata": {},
   "source": [
    "Q3. What is abc module in python? Why is it used?"
   ]
  },
  {
   "cell_type": "markdown",
   "metadata": {},
   "source": [
    "The abc module in Python stands for \"Abstract Base Classes.\" It provides the infrastructure for defining abstract base classes and abstract methods. Abstract base classes are classes that cannot be instantiated directly but serve as a template for other classes to inherit from. Abstract methods are methods that must be implemented in subclasses, ensuring that certain methods are defined and providing a blueprint for how subclasses should behave."
   ]
  },
  {
   "cell_type": "markdown",
   "metadata": {},
   "source": [
    "Q4. How can we achieve data abstraction?"
   ]
  },
  {
   "cell_type": "markdown",
   "metadata": {},
   "source": [
    "Data abstraction in programming refers to the concept of hiding the implementation details of data and exposing only the essential features or interfaces. This allows us to focus on what an object does rather than how it does it. In Python, you can achieve data abstraction through several mechanisms:\n",
    "\n",
    "Classes and Objects: Encapsulate data within classes and provide methods to access and manipulate that data. This way, the internal representation of data is hidden, and only the necessary functionalities are exposed.\n",
    "\n",
    "Abstract Base Classes (ABCs): Use the abc module to define abstract base classes with abstract methods that subclasses must implement. This enforces a consistent interface for interacting with different types of objects.\n",
    "\n",
    "Properties and Getters/Setters: Use property decorators and getter/setter methods to control access to attributes and add validation or computations when getting or setting values.\n",
    "\n",
    "Data Hiding: Use name mangling (__ double underscores before an attribute name) to make attributes private. This prevents direct access to attributes from outside the class."
   ]
  },
  {
   "cell_type": "markdown",
   "metadata": {},
   "source": [
    "Q5. Can we create an instance of an abstract class? Explain your answer."
   ]
  },
  {
   "cell_type": "markdown",
   "metadata": {},
   "source": [
    "No, you cannot create an instance of an abstract class directly in Python. An abstract class is a class that contains one or more abstract methods, which are methods without any implementation in the abstract class itself. These abstract methods serve as placeholders and must be implemented in concrete subclasses."
   ]
  }
 ],
 "metadata": {
  "language_info": {
   "name": "python"
  }
 },
 "nbformat": 4,
 "nbformat_minor": 2
}
